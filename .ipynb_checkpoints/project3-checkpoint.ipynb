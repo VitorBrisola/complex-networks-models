{
 "cells": [
  {
   "cell_type": "markdown",
   "metadata": {},
   "source": [
    "# Project 3"
   ]
  },
  {
   "cell_type": "markdown",
   "metadata": {},
   "source": [
    "- Leonardo Meireles\n",
    "- Vitor Brisola"
   ]
  },
  {
   "cell_type": "code",
   "execution_count": 2,
   "metadata": {},
   "outputs": [],
   "source": [
    "import networkx as nx"
   ]
  },
  {
   "cell_type": "code",
   "execution_count": 3,
   "metadata": {},
   "outputs": [],
   "source": [
    "from numpy  import *\n",
    "import numpy as np"
   ]
  },
  {
   "cell_type": "code",
   "execution_count": 4,
   "metadata": {},
   "outputs": [],
   "source": [
    "import matplotlib.pyplot as plt"
   ]
  },
  {
   "cell_type": "code",
   "execution_count": 24,
   "metadata": {},
   "outputs": [],
   "source": [
    "import json"
   ]
  },
  {
   "cell_type": "markdown",
   "metadata": {},
   "source": [
    "## Utils"
   ]
  },
  {
   "cell_type": "code",
   "execution_count": 7,
   "metadata": {},
   "outputs": [],
   "source": [
    "def get_largest_component(G,show = False):\n",
    "    Gcc=sorted(nx.connected_component_subgraphs(G), key = len, reverse=True)\n",
    "    G=Gcc[0]\n",
    "    # drawing largest component\n",
    "    if show:\n",
    "        print_net(G)\n",
    "    return G"
   ]
  },
  {
   "cell_type": "markdown",
   "metadata": {},
   "source": [
    "## Measures "
   ]
  },
  {
   "cell_type": "code",
   "execution_count": 8,
   "metadata": {},
   "outputs": [],
   "source": [
    "def get_degrees(G):\n",
    "    vk = dict(G.degree())\n",
    "    vk = list(vk.values())\n",
    "    degree = np.array(vk)\n",
    "    return degree"
   ]
  },
  {
   "cell_type": "code",
   "execution_count": 9,
   "metadata": {},
   "outputs": [],
   "source": [
    "def get_degree_distribution(G):\n",
    "    vk = get_degrees(G)\n",
    "    maxk = np.max(vk)\n",
    "    mink = np.min(vk)\n",
    "    kvalues= arange(0,maxk+1) # possible values of k\n",
    "    Pk = np.zeros(maxk+1) # P(k)\n",
    "    for k in vk:\n",
    "        Pk[k] = Pk[k] + 1\n",
    "    Pk = Pk/sum(Pk) # the sum of the elements of P(k) must to be equal to one\n",
    "    return kvalues,Pk"
   ]
  },
  {
   "cell_type": "code",
   "execution_count": 10,
   "metadata": {},
   "outputs": [],
   "source": [
    "def momment_of_degree_distribution(G,m):\n",
    "    k,Pk = get_degree_distribution(G)\n",
    "    M = sum((k**m)*Pk)\n",
    "    return M"
   ]
  },
  {
   "cell_type": "markdown",
   "metadata": {},
   "source": [
    "## Exercise 1) Comparison of Networks Models"
   ]
  },
  {
   "cell_type": "code",
   "execution_count": 11,
   "metadata": {},
   "outputs": [],
   "source": [
    "def get_erdos_renyi(N,k):\n",
    "    # k is the expected number of connections of the network\n",
    "    # or the expected avarage degree\n",
    "    p = k/(N-1)\n",
    "    return nx.gnp_random_graph(N, p, seed=None, directed=False)"
   ]
  },
  {
   "cell_type": "code",
   "execution_count": 12,
   "metadata": {},
   "outputs": [],
   "source": [
    "def get_watts_strogratz(N,k,p):\n",
    "    k = int(k)\n",
    "    #p = 0.01 #probability of rewiring\n",
    "    return nx.watts_strogatz_graph(N, k, p, seed=None)"
   ]
  },
  {
   "cell_type": "code",
   "execution_count": 13,
   "metadata": {},
   "outputs": [],
   "source": [
    "def get_barabasi_albert(N,k):\n",
    "    m = int(k/2)\n",
    "    return nx.barabasi_albert_graph(N, m)"
   ]
  },
  {
   "cell_type": "code",
   "execution_count": 14,
   "metadata": {},
   "outputs": [],
   "source": [
    "def get_measures(G):\n",
    "    measures = {}\n",
    "    \n",
    "    measures['number of nodes'                      ] = len(G.nodes())                        \n",
    "    measures['average degree'                       ] = np.mean(G.degree())                   \n",
    "    measures['second momment of degree distribution'] = momment_of_degree_distribution(G,2)   \n",
    "    measures['average shortest path lenght'         ] = nx.average_shortest_path_length(G)    \n",
    "    measures['average clustering coefficient'       ] = nx.average_clustering(G)              \n",
    "    measures['transitivity'                         ] = nx.transitivity(G)                    \n",
    "    measures['assortativity coefficient'            ] = nx.degree_assortativity_coefficient(G)\n",
    "    \n",
    "    return measures"
   ]
  },
  {
   "cell_type": "code",
   "execution_count": 15,
   "metadata": {},
   "outputs": [],
   "source": [
    "N = 1000\n",
    "k = 10"
   ]
  },
  {
   "cell_type": "code",
   "execution_count": 16,
   "metadata": {},
   "outputs": [],
   "source": [
    "measure = {'number of nodes':[],'average degree':[],'second momment of degree distribution':[],\n",
    "            'average shortest path lenght':[],'average clustering coefficient':[],'transitivity':[],\n",
    "           'assortativity coefficient':[]}"
   ]
  },
  {
   "cell_type": "code",
   "execution_count": 17,
   "metadata": {},
   "outputs": [],
   "source": [
    "nets_dir = 'nets/'"
   ]
  },
  {
   "cell_type": "markdown",
   "metadata": {},
   "source": [
    "### Erdos-Rényi Model: Random Networks"
   ]
  },
  {
   "cell_type": "code",
   "execution_count": 23,
   "metadata": {},
   "outputs": [],
   "source": [
    "# creating and saving networks\n",
    "for i in range(0,30):\n",
    "    # creating\n",
    "    G = get_erdos_renyi(N,k)\n",
    "    G = get_largest_component(G)\n",
    "    G = nx.convert_node_labels_to_integers(G, first_label=0)\n",
    "    #saving\n",
    "    nx.write_edgelist(G,nets_dir+str(i)+'_er.txt')\n",
    "    G.clear()\n",
    "    "
   ]
  },
  {
   "cell_type": "code",
   "execution_count": 32,
   "metadata": {},
   "outputs": [],
   "source": [
    "er_measures = {}"
   ]
  },
  {
   "cell_type": "code",
   "execution_count": 37,
   "metadata": {},
   "outputs": [],
   "source": [
    "for i in range(0,30):\n",
    "    # reading network\n",
    "    G = nx.read_edgelist(nets_dir+str(i)+'_er.txt')\n",
    "    G = nx.convert_node_labels_to_integers(G, first_label=0)\n",
    "    # calculating measures\n",
    "    m = get_measures(G)\n",
    "\n",
    "    er_measures[i] = m\n",
    "    \n",
    "    G.clear()"
   ]
  },
  {
   "cell_type": "code",
   "execution_count": 38,
   "metadata": {},
   "outputs": [],
   "source": [
    "for net in er_measures:\n",
    "    for measure in er_measures[net]:\n",
    "        data = er_measures[net][measure]\n",
    "        er_measures[net][measure] = {str(j):{'mean':np.mean(data),'standart deviation':np.std(data)}}"
   ]
  },
  {
   "cell_type": "code",
   "execution_count": 40,
   "metadata": {},
   "outputs": [],
   "source": [
    "for net in er_measures:\n",
    "    with open(str(net)+'_er.json', 'w+') as outfile:\n",
    "        json.dump(er_measure[net], outfile)"
   ]
  },
  {
   "cell_type": "markdown",
   "metadata": {},
   "source": [
    "### Watts-Strogratz Model: Small-World Networks"
   ]
  },
  {
   "cell_type": "code",
   "execution_count": 33,
   "metadata": {},
   "outputs": [],
   "source": [
    "measure = {'number of nodes':[],'average degree':[],'second momment of degree distribution':[],\n",
    "            'average shortest path lenght':[],'average clustering coefficient':[],'transitivity':[],\n",
    "           'assortativity coefficient':[]}"
   ]
  },
  {
   "cell_type": "code",
   "execution_count": 32,
   "metadata": {},
   "outputs": [],
   "source": [
    "# creating and saving networks\n",
    "for i in range(0,30):\n",
    "    # choosing p\n",
    "    if i < 15: p = 0.1 \n",
    "    else: p = 0.01\n",
    "    # creating\n",
    "    G = get_watts_strogratz(N,k,p)\n",
    "    G = get_largest_component(G)\n",
    "    G = nx.convert_node_labels_to_integers(G, first_label=0)\n",
    "    #saving\n",
    "    nx.write_edgelist(G,nets_dir+str(i)+'_ws.txt')\n",
    "    G.clear()\n",
    "    "
   ]
  },
  {
   "cell_type": "code",
   "execution_count": 34,
   "metadata": {},
   "outputs": [
    {
     "ename": "TypeError",
     "evalue": "cannot perform reduce with flexible type",
     "output_type": "error",
     "traceback": [
      "\u001b[0;31m---------------------------------------------------------------------------\u001b[0m",
      "\u001b[0;31mTypeError\u001b[0m                                 Traceback (most recent call last)",
      "\u001b[0;32m<ipython-input-34-ec6bb1fcd5cf>\u001b[0m in \u001b[0;36m<module>\u001b[0;34m\u001b[0m\n\u001b[1;32m     10\u001b[0m \u001b[0;34m\u001b[0m\u001b[0m\n\u001b[1;32m     11\u001b[0m     \u001b[0mmeasure\u001b[0m\u001b[0;34m[\u001b[0m\u001b[0;34m'number of nodes'\u001b[0m                      \u001b[0;34m]\u001b[0m\u001b[0;34m.\u001b[0m\u001b[0mappend\u001b[0m\u001b[0;34m(\u001b[0m \u001b[0mlen\u001b[0m\u001b[0;34m(\u001b[0m\u001b[0mG\u001b[0m\u001b[0;34m.\u001b[0m\u001b[0mnodes\u001b[0m\u001b[0;34m(\u001b[0m\u001b[0;34m)\u001b[0m\u001b[0;34m)\u001b[0m                        \u001b[0;34m)\u001b[0m\u001b[0;34m\u001b[0m\u001b[0;34m\u001b[0m\u001b[0m\n\u001b[0;32m---> 12\u001b[0;31m     \u001b[0mmeasure\u001b[0m\u001b[0;34m[\u001b[0m\u001b[0;34m'average degree'\u001b[0m                       \u001b[0;34m]\u001b[0m\u001b[0;34m.\u001b[0m\u001b[0mappend\u001b[0m\u001b[0;34m(\u001b[0m \u001b[0mnp\u001b[0m\u001b[0;34m.\u001b[0m\u001b[0mmean\u001b[0m\u001b[0;34m(\u001b[0m\u001b[0mG\u001b[0m\u001b[0;34m.\u001b[0m\u001b[0mdegree\u001b[0m\u001b[0;34m(\u001b[0m\u001b[0;34m)\u001b[0m\u001b[0;34m)\u001b[0m                   \u001b[0;34m)\u001b[0m\u001b[0;34m\u001b[0m\u001b[0;34m\u001b[0m\u001b[0m\n\u001b[0m\u001b[1;32m     13\u001b[0m     \u001b[0mmeasure\u001b[0m\u001b[0;34m[\u001b[0m\u001b[0;34m'second momment of degree distribution'\u001b[0m\u001b[0;34m]\u001b[0m\u001b[0;34m.\u001b[0m\u001b[0mappend\u001b[0m\u001b[0;34m(\u001b[0m \u001b[0mmomment_of_degree_distribution\u001b[0m\u001b[0;34m(\u001b[0m\u001b[0mG\u001b[0m\u001b[0;34m,\u001b[0m\u001b[0;36m2\u001b[0m\u001b[0;34m)\u001b[0m   \u001b[0;34m)\u001b[0m\u001b[0;34m\u001b[0m\u001b[0;34m\u001b[0m\u001b[0m\n\u001b[1;32m     14\u001b[0m     \u001b[0mmeasure\u001b[0m\u001b[0;34m[\u001b[0m\u001b[0;34m'average shortest path lenght'\u001b[0m         \u001b[0;34m]\u001b[0m\u001b[0;34m.\u001b[0m\u001b[0mappend\u001b[0m\u001b[0;34m(\u001b[0m \u001b[0mnx\u001b[0m\u001b[0;34m.\u001b[0m\u001b[0maverage_shortest_path_length\u001b[0m\u001b[0;34m(\u001b[0m\u001b[0mG\u001b[0m\u001b[0;34m)\u001b[0m    \u001b[0;34m)\u001b[0m\u001b[0;34m\u001b[0m\u001b[0;34m\u001b[0m\u001b[0m\n",
      "\u001b[0;32m<__array_function__ internals>\u001b[0m in \u001b[0;36mmean\u001b[0;34m(*args, **kwargs)\u001b[0m\n",
      "\u001b[0;32m~/.local/lib/python3.6/site-packages/numpy/core/fromnumeric.py\u001b[0m in \u001b[0;36mmean\u001b[0;34m(a, axis, dtype, out, keepdims)\u001b[0m\n\u001b[1;32m   3255\u001b[0m \u001b[0;34m\u001b[0m\u001b[0m\n\u001b[1;32m   3256\u001b[0m     return _methods._mean(a, axis=axis, dtype=dtype,\n\u001b[0;32m-> 3257\u001b[0;31m                           out=out, **kwargs)\n\u001b[0m\u001b[1;32m   3258\u001b[0m \u001b[0;34m\u001b[0m\u001b[0m\n\u001b[1;32m   3259\u001b[0m \u001b[0;34m\u001b[0m\u001b[0m\n",
      "\u001b[0;32m~/.local/lib/python3.6/site-packages/numpy/core/_methods.py\u001b[0m in \u001b[0;36m_mean\u001b[0;34m(a, axis, dtype, out, keepdims)\u001b[0m\n\u001b[1;32m    149\u001b[0m             \u001b[0mis_float16_result\u001b[0m \u001b[0;34m=\u001b[0m \u001b[0;32mTrue\u001b[0m\u001b[0;34m\u001b[0m\u001b[0;34m\u001b[0m\u001b[0m\n\u001b[1;32m    150\u001b[0m \u001b[0;34m\u001b[0m\u001b[0m\n\u001b[0;32m--> 151\u001b[0;31m     \u001b[0mret\u001b[0m \u001b[0;34m=\u001b[0m \u001b[0mumr_sum\u001b[0m\u001b[0;34m(\u001b[0m\u001b[0marr\u001b[0m\u001b[0;34m,\u001b[0m \u001b[0maxis\u001b[0m\u001b[0;34m,\u001b[0m \u001b[0mdtype\u001b[0m\u001b[0;34m,\u001b[0m \u001b[0mout\u001b[0m\u001b[0;34m,\u001b[0m \u001b[0mkeepdims\u001b[0m\u001b[0;34m)\u001b[0m\u001b[0;34m\u001b[0m\u001b[0;34m\u001b[0m\u001b[0m\n\u001b[0m\u001b[1;32m    152\u001b[0m     \u001b[0;32mif\u001b[0m \u001b[0misinstance\u001b[0m\u001b[0;34m(\u001b[0m\u001b[0mret\u001b[0m\u001b[0;34m,\u001b[0m \u001b[0mmu\u001b[0m\u001b[0;34m.\u001b[0m\u001b[0mndarray\u001b[0m\u001b[0;34m)\u001b[0m\u001b[0;34m:\u001b[0m\u001b[0;34m\u001b[0m\u001b[0;34m\u001b[0m\u001b[0m\n\u001b[1;32m    153\u001b[0m         ret = um.true_divide(\n",
      "\u001b[0;31mTypeError\u001b[0m: cannot perform reduce with flexible type"
     ]
    }
   ],
   "source": [
    "for i in range(0,30):\n",
    "    #if i < 15: p = 0.1 \n",
    "    #else: p = 0.01\n",
    "    # generating network\n",
    "    #G = get_watts_strogratz(N,k,p)\n",
    "    #G = get_largest_component(G)\n",
    "    #G = nx.convert_node_labels_to_integers(G, first_label=0)\n",
    "    # calculating measures\n",
    "    G = nx.read_edgelist(nets_dir+str(i)+'_ws.txt')\n",
    "    \n",
    "    measure['number of nodes'                      ].append( len(G.nodes())                        )\n",
    "    measure['average degree'                       ].append( np.mean(G.degree())                   )\n",
    "    measure['second momment of degree distribution'].append( momment_of_degree_distribution(G,2)   )\n",
    "    measure['average shortest path lenght'         ].append( nx.average_shortest_path_length(G)    )\n",
    "    measure['average clustering coefficient'       ].append( nx.average_clustering(G)              )\n",
    "    measure['transitivity'                         ].append( nx.transitivity(G)                    )\n",
    "    measure['assortativity coefficient'            ].append( nx.degree_assortativity_coefficient(G))\n",
    "    \n",
    "    G.clear()"
   ]
  },
  {
   "cell_type": "code",
   "execution_count": 32,
   "metadata": {},
   "outputs": [],
   "source": [
    "ws_measures = {}"
   ]
  },
  {
   "cell_type": "code",
   "execution_count": 33,
   "metadata": {},
   "outputs": [],
   "source": [
    "for i in measure:\n",
    "    ws_measures[i] = {'mean':np.mean(measure[i]),'standart deviation':np.std(measure[i])}"
   ]
  },
  {
   "cell_type": "markdown",
   "metadata": {},
   "source": [
    "### Barabási-Albert Model: Scale-free Networks"
   ]
  },
  {
   "cell_type": "code",
   "execution_count": 39,
   "metadata": {},
   "outputs": [],
   "source": [
    "measure = {'number of nodes':[],'average degree':[],'second momment of degree distribution':[],\n",
    "            'average shortest path lenght':[],'average clustering coefficient':[],'transitivity':[],\n",
    "           'assortativity coefficient':[]}"
   ]
  },
  {
   "cell_type": "code",
   "execution_count": 41,
   "metadata": {},
   "outputs": [],
   "source": [
    "for i in range(0,30):\n",
    "    # generating network\n",
    "    G = get_barabasi_albert(N,k)\n",
    "    G = get_largest_component(G)\n",
    "    G = nx.convert_node_labels_to_integers(G, first_label=0)\n",
    "    # calculating measures\n",
    "    \n",
    "    measure['number of nodes'                      ].append( len(G.nodes())                        )\n",
    "    measure['average degree'                       ].append( np.mean(G.degree())                   )\n",
    "    measure['second momment of degree distribution'].append( momment_of_degree_distribution(G,2)   )\n",
    "    measure['average shortest path lenght'         ].append( nx.average_shortest_path_length(G)    )\n",
    "    measure['average clustering coefficient'       ].append( nx.average_clustering(G)              )\n",
    "    measure['transitivity'                         ].append( nx.transitivity(G)                    )\n",
    "    measure['assortativity coefficient'            ].append( nx.degree_assortativity_coefficient(G))\n",
    "    \n",
    "    G.clear()"
   ]
  },
  {
   "cell_type": "code",
   "execution_count": 43,
   "metadata": {},
   "outputs": [],
   "source": [
    "ba_measures = {}"
   ]
  },
  {
   "cell_type": "code",
   "execution_count": 44,
   "metadata": {},
   "outputs": [],
   "source": [
    "for i in measure:\n",
    "    ba_measures[i] = {'mean':np.mean(measure[i]),'standart deviation':np.std(measure[i])}"
   ]
  },
  {
   "cell_type": "markdown",
   "metadata": {},
   "source": [
    "### Table  Ploting"
   ]
  },
  {
   "cell_type": "code",
   "execution_count": 47,
   "metadata": {},
   "outputs": [],
   "source": [
    "import plotly.graph_objects as go"
   ]
  },
  {
   "cell_type": "code",
   "execution_count": 91,
   "metadata": {},
   "outputs": [],
   "source": [
    "#headers = dict(values=[header for header in ba_measures])\n",
    "headers = dict(values = ['Barabási-Albert Model'] + [header for header in ba_measures['number of nodes']])"
   ]
  },
  {
   "cell_type": "code",
   "execution_count": 71,
   "metadata": {},
   "outputs": [],
   "source": [
    "means = []\n",
    "for measure in ba_measures:\n",
    "    means.append(ba_measures[measure]['mean'])"
   ]
  },
  {
   "cell_type": "code",
   "execution_count": 72,
   "metadata": {},
   "outputs": [],
   "source": [
    "stds = []\n",
    "for measure in ba_measures:\n",
    "    stds.append(ba_measures[measure]['standart deviation'])"
   ]
  },
  {
   "cell_type": "code",
   "execution_count": 74,
   "metadata": {},
   "outputs": [],
   "source": [
    "cells = dict(values=[[measure for measure in ba_measures],\n",
    "                     means,\n",
    "                     stds])"
   ]
  },
  {
   "cell_type": "code",
   "execution_count": 96,
   "metadata": {},
   "outputs": [],
   "source": [
    "fig = go.Figure(data=[go.Table(header=headers,\n",
    "                 cells=cells)\n",
    "                     ])"
   ]
  },
  {
   "cell_type": "code",
   "execution_count": null,
   "metadata": {},
   "outputs": [],
   "source": []
  }
 ],
 "metadata": {
  "kernelspec": {
   "display_name": "Python 3",
   "language": "python",
   "name": "python3"
  },
  "language_info": {
   "codemirror_mode": {
    "name": "ipython",
    "version": 3
   },
   "file_extension": ".py",
   "mimetype": "text/x-python",
   "name": "python",
   "nbconvert_exporter": "python",
   "pygments_lexer": "ipython3",
   "version": "3.6.8"
  }
 },
 "nbformat": 4,
 "nbformat_minor": 2
}
